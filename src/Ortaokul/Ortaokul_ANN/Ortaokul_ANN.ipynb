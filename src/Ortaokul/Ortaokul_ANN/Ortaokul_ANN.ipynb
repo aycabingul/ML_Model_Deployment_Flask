{
  "nbformat": 4,
  "nbformat_minor": 0,
  "metadata": {
    "colab": {
      "name": "Ortaokul_ANN.ipynb",
      "provenance": [],
      "collapsed_sections": []
    },
    "kernelspec": {
      "name": "python3",
      "display_name": "Python 3"
    }
  },
  "cells": [
    {
      "cell_type": "code",
      "metadata": {
        "id": "Ask_brgIoqeA"
      },
      "source": [
        ""
      ],
      "execution_count": null,
      "outputs": []
    },
    {
      "cell_type": "code",
      "metadata": {
        "id": "NZqJ2UMjAsfX"
      },
      "source": [
        "import tensorflow as tf\r\n",
        "import pandas as pd\r\n",
        "import os\r\n",
        "import numpy as np\r\n",
        "import seaborn as sns\r\n",
        "import matplotlib.pyplot as plt\r\n",
        "from sklearn.preprocessing import  MinMaxScaler\r\n",
        "from sklearn.model_selection import train_test_split\r\n",
        "from sklearn.preprocessing import StandardScaler\r\n",
        "from keras.models import Sequential\r\n",
        "from keras.layers import Dense"
      ],
      "execution_count": null,
      "outputs": []
    },
    {
      "cell_type": "code",
      "metadata": {
        "id": "0P2WIHVlNbRh"
      },
      "source": [
        "os.chdir(\"/content/drive/MyDrive/Works/Bitirme\")"
      ],
      "execution_count": null,
      "outputs": []
    },
    {
      "cell_type": "code",
      "metadata": {
        "colab": {
          "base_uri": "https://localhost:8080/",
          "height": 224
        },
        "id": "hq4HM6AsNeK1",
        "outputId": "86deae24-845c-414e-cb83-2130be34405c"
      },
      "source": [
        "data_file = \"Data/Veriseti_Ortaokullar_GONDERILEN.xlsx\"\r\n",
        "data_original = pd.read_excel(data_file)\r\n",
        "df = data_original.copy()\r\n",
        "df = df.drop(columns=[\"okuladi\", \"okulno\"])\r\n",
        "df.head()"
      ],
      "execution_count": null,
      "outputs": [
        {
          "output_type": "execute_result",
          "data": {
            "text/html": [
              "<div>\n",
              "<style scoped>\n",
              "    .dataframe tbody tr th:only-of-type {\n",
              "        vertical-align: middle;\n",
              "    }\n",
              "\n",
              "    .dataframe tbody tr th {\n",
              "        vertical-align: top;\n",
              "    }\n",
              "\n",
              "    .dataframe thead th {\n",
              "        text-align: right;\n",
              "    }\n",
              "</style>\n",
              "<table border=\"1\" class=\"dataframe\">\n",
              "  <thead>\n",
              "    <tr style=\"text-align: right;\">\n",
              "      <th></th>\n",
              "      <th>cinsiyet</th>\n",
              "      <th>Asag</th>\n",
              "      <th>Bsag</th>\n",
              "      <th>Aoz</th>\n",
              "      <th>Boz</th>\n",
              "      <th>ABayri</th>\n",
              "      <th>Abirlikte</th>\n",
              "      <th>Aogrenim</th>\n",
              "      <th>Bogrenim</th>\n",
              "      <th>Acalisma</th>\n",
              "      <th>Bcalisma</th>\n",
              "      <th>gelir</th>\n",
              "      <th>kardes</th>\n",
              "      <th>oda</th>\n",
              "      <th>hastalik</th>\n",
              "      <th>uyku</th>\n",
              "      <th>internet</th>\n",
              "      <th>televizyon</th>\n",
              "      <th>eba_tv</th>\n",
              "      <th>oyun</th>\n",
              "      <th>ders_calisma</th>\n",
              "      <th>okul_dyk</th>\n",
              "      <th>ozel_kurs</th>\n",
              "      <th>sosyal_kulturel</th>\n",
              "      <th>ort5</th>\n",
              "      <th>ort6</th>\n",
              "      <th>ort7</th>\n",
              "    </tr>\n",
              "  </thead>\n",
              "  <tbody>\n",
              "    <tr>\n",
              "      <th>0</th>\n",
              "      <td>1</td>\n",
              "      <td>0</td>\n",
              "      <td>0</td>\n",
              "      <td>0</td>\n",
              "      <td>0</td>\n",
              "      <td>0</td>\n",
              "      <td>0</td>\n",
              "      <td>5</td>\n",
              "      <td>4</td>\n",
              "      <td>1</td>\n",
              "      <td>0</td>\n",
              "      <td>3</td>\n",
              "      <td>3</td>\n",
              "      <td>0</td>\n",
              "      <td>1</td>\n",
              "      <td>1</td>\n",
              "      <td>5</td>\n",
              "      <td>2</td>\n",
              "      <td>2</td>\n",
              "      <td>2</td>\n",
              "      <td>2</td>\n",
              "      <td>0</td>\n",
              "      <td>0</td>\n",
              "      <td>0</td>\n",
              "      <td>85.5956</td>\n",
              "      <td>88.0247</td>\n",
              "      <td>91.0988</td>\n",
              "    </tr>\n",
              "    <tr>\n",
              "      <th>1</th>\n",
              "      <td>1</td>\n",
              "      <td>0</td>\n",
              "      <td>0</td>\n",
              "      <td>0</td>\n",
              "      <td>0</td>\n",
              "      <td>0</td>\n",
              "      <td>0</td>\n",
              "      <td>2</td>\n",
              "      <td>4</td>\n",
              "      <td>1</td>\n",
              "      <td>0</td>\n",
              "      <td>2</td>\n",
              "      <td>3</td>\n",
              "      <td>0</td>\n",
              "      <td>1</td>\n",
              "      <td>3</td>\n",
              "      <td>3</td>\n",
              "      <td>3</td>\n",
              "      <td>2</td>\n",
              "      <td>2</td>\n",
              "      <td>2</td>\n",
              "      <td>0</td>\n",
              "      <td>0</td>\n",
              "      <td>1</td>\n",
              "      <td>96.3081</td>\n",
              "      <td>94.9244</td>\n",
              "      <td>97.2963</td>\n",
              "    </tr>\n",
              "    <tr>\n",
              "      <th>2</th>\n",
              "      <td>1</td>\n",
              "      <td>0</td>\n",
              "      <td>0</td>\n",
              "      <td>0</td>\n",
              "      <td>0</td>\n",
              "      <td>0</td>\n",
              "      <td>0</td>\n",
              "      <td>4</td>\n",
              "      <td>2</td>\n",
              "      <td>1</td>\n",
              "      <td>0</td>\n",
              "      <td>3</td>\n",
              "      <td>3</td>\n",
              "      <td>0</td>\n",
              "      <td>1</td>\n",
              "      <td>2</td>\n",
              "      <td>1</td>\n",
              "      <td>0</td>\n",
              "      <td>4</td>\n",
              "      <td>3</td>\n",
              "      <td>2</td>\n",
              "      <td>1</td>\n",
              "      <td>0</td>\n",
              "      <td>1</td>\n",
              "      <td>93.4270</td>\n",
              "      <td>91.3742</td>\n",
              "      <td>89.7531</td>\n",
              "    </tr>\n",
              "    <tr>\n",
              "      <th>3</th>\n",
              "      <td>1</td>\n",
              "      <td>0</td>\n",
              "      <td>0</td>\n",
              "      <td>0</td>\n",
              "      <td>0</td>\n",
              "      <td>0</td>\n",
              "      <td>0</td>\n",
              "      <td>2</td>\n",
              "      <td>4</td>\n",
              "      <td>1</td>\n",
              "      <td>0</td>\n",
              "      <td>4</td>\n",
              "      <td>4</td>\n",
              "      <td>0</td>\n",
              "      <td>1</td>\n",
              "      <td>4</td>\n",
              "      <td>3</td>\n",
              "      <td>3</td>\n",
              "      <td>1</td>\n",
              "      <td>4</td>\n",
              "      <td>4</td>\n",
              "      <td>1</td>\n",
              "      <td>1</td>\n",
              "      <td>1</td>\n",
              "      <td>64.5563</td>\n",
              "      <td>64.8812</td>\n",
              "      <td>61.3426</td>\n",
              "    </tr>\n",
              "    <tr>\n",
              "      <th>4</th>\n",
              "      <td>1</td>\n",
              "      <td>0</td>\n",
              "      <td>0</td>\n",
              "      <td>0</td>\n",
              "      <td>0</td>\n",
              "      <td>0</td>\n",
              "      <td>0</td>\n",
              "      <td>2</td>\n",
              "      <td>2</td>\n",
              "      <td>1</td>\n",
              "      <td>0</td>\n",
              "      <td>4</td>\n",
              "      <td>2</td>\n",
              "      <td>1</td>\n",
              "      <td>1</td>\n",
              "      <td>4</td>\n",
              "      <td>4</td>\n",
              "      <td>2</td>\n",
              "      <td>1</td>\n",
              "      <td>4</td>\n",
              "      <td>1</td>\n",
              "      <td>0</td>\n",
              "      <td>1</td>\n",
              "      <td>0</td>\n",
              "      <td>91.8089</td>\n",
              "      <td>93.9298</td>\n",
              "      <td>93.3457</td>\n",
              "    </tr>\n",
              "  </tbody>\n",
              "</table>\n",
              "</div>"
            ],
            "text/plain": [
              "   cinsiyet  Asag  Bsag  Aoz  ...  sosyal_kulturel     ort5     ort6     ort7\n",
              "0         1     0     0    0  ...                0  85.5956  88.0247  91.0988\n",
              "1         1     0     0    0  ...                1  96.3081  94.9244  97.2963\n",
              "2         1     0     0    0  ...                1  93.4270  91.3742  89.7531\n",
              "3         1     0     0    0  ...                1  64.5563  64.8812  61.3426\n",
              "4         1     0     0    0  ...                0  91.8089  93.9298  93.3457\n",
              "\n",
              "[5 rows x 27 columns]"
            ]
          },
          "metadata": {
            "tags": []
          },
          "execution_count": 77
        }
      ]
    },
    {
      "cell_type": "code",
      "metadata": {
        "id": "HeQVNQWDvgmq"
      },
      "source": [
        "df.iloc[:, -3:] = df.iloc[:, -3:].astype(\"int64\")"
      ],
      "execution_count": null,
      "outputs": []
    },
    {
      "cell_type": "code",
      "metadata": {
        "id": "6LlxJFpjN1SU"
      },
      "source": [
        "def sifir_bir_duzelt(degisken):\r\n",
        "  for i in df[degisken].index:\r\n",
        "    if df[degisken][i] ==0:\r\n",
        "      df[degisken][i] = 1\r\n",
        "    elif df[degisken][i]==1:\r\n",
        "      df[degisken][i]=0"
      ],
      "execution_count": null,
      "outputs": []
    },
    {
      "cell_type": "code",
      "metadata": {
        "id": "RdeJWu6_O0vL"
      },
      "source": [
        "sifir_bir_duzelt(\"Asag\")\r\n",
        "sifir_bir_duzelt(\"Bsag\")\r\n",
        "sifir_bir_duzelt(\"Aoz\")\r\n",
        "sifir_bir_duzelt(\"Boz\")\r\n",
        "sifir_bir_duzelt(\"ABayri\")\r\n",
        "sifir_bir_duzelt(\"Abirlikte\")\r\n",
        "sifir_bir_duzelt(\"Acalisma\")\r\n",
        "sifir_bir_duzelt(\"Bcalisma\")\r\n",
        "sifir_bir_duzelt(\"oda\")\r\n",
        "sifir_bir_duzelt(\"hastalik\")\r\n",
        "sifir_bir_duzelt(\"okul_dyk\")\r\n",
        "sifir_bir_duzelt(\"ozel_kurs\")"
      ],
      "execution_count": null,
      "outputs": []
    },
    {
      "cell_type": "code",
      "metadata": {
        "colab": {
          "base_uri": "https://localhost:8080/",
          "height": 224
        },
        "id": "VNKEQG5wPEWd",
        "outputId": "cebd3b31-c3f9-4a26-8d1f-8ea4c518868f"
      },
      "source": [
        "df.head()"
      ],
      "execution_count": null,
      "outputs": [
        {
          "output_type": "execute_result",
          "data": {
            "text/html": [
              "<div>\n",
              "<style scoped>\n",
              "    .dataframe tbody tr th:only-of-type {\n",
              "        vertical-align: middle;\n",
              "    }\n",
              "\n",
              "    .dataframe tbody tr th {\n",
              "        vertical-align: top;\n",
              "    }\n",
              "\n",
              "    .dataframe thead th {\n",
              "        text-align: right;\n",
              "    }\n",
              "</style>\n",
              "<table border=\"1\" class=\"dataframe\">\n",
              "  <thead>\n",
              "    <tr style=\"text-align: right;\">\n",
              "      <th></th>\n",
              "      <th>cinsiyet</th>\n",
              "      <th>Asag</th>\n",
              "      <th>Bsag</th>\n",
              "      <th>Aoz</th>\n",
              "      <th>Boz</th>\n",
              "      <th>ABayri</th>\n",
              "      <th>Abirlikte</th>\n",
              "      <th>Aogrenim</th>\n",
              "      <th>Bogrenim</th>\n",
              "      <th>Acalisma</th>\n",
              "      <th>Bcalisma</th>\n",
              "      <th>gelir</th>\n",
              "      <th>kardes</th>\n",
              "      <th>oda</th>\n",
              "      <th>hastalik</th>\n",
              "      <th>uyku</th>\n",
              "      <th>internet</th>\n",
              "      <th>televizyon</th>\n",
              "      <th>eba_tv</th>\n",
              "      <th>oyun</th>\n",
              "      <th>ders_calisma</th>\n",
              "      <th>okul_dyk</th>\n",
              "      <th>ozel_kurs</th>\n",
              "      <th>sosyal_kulturel</th>\n",
              "      <th>ort5</th>\n",
              "      <th>ort6</th>\n",
              "      <th>ort7</th>\n",
              "    </tr>\n",
              "  </thead>\n",
              "  <tbody>\n",
              "    <tr>\n",
              "      <th>0</th>\n",
              "      <td>1</td>\n",
              "      <td>1</td>\n",
              "      <td>1</td>\n",
              "      <td>1</td>\n",
              "      <td>1</td>\n",
              "      <td>1</td>\n",
              "      <td>1</td>\n",
              "      <td>5</td>\n",
              "      <td>4</td>\n",
              "      <td>0</td>\n",
              "      <td>1</td>\n",
              "      <td>3</td>\n",
              "      <td>3</td>\n",
              "      <td>1</td>\n",
              "      <td>0</td>\n",
              "      <td>1</td>\n",
              "      <td>5</td>\n",
              "      <td>2</td>\n",
              "      <td>2</td>\n",
              "      <td>2</td>\n",
              "      <td>2</td>\n",
              "      <td>1</td>\n",
              "      <td>1</td>\n",
              "      <td>0</td>\n",
              "      <td>85</td>\n",
              "      <td>88</td>\n",
              "      <td>91</td>\n",
              "    </tr>\n",
              "    <tr>\n",
              "      <th>1</th>\n",
              "      <td>1</td>\n",
              "      <td>1</td>\n",
              "      <td>1</td>\n",
              "      <td>1</td>\n",
              "      <td>1</td>\n",
              "      <td>1</td>\n",
              "      <td>1</td>\n",
              "      <td>2</td>\n",
              "      <td>4</td>\n",
              "      <td>0</td>\n",
              "      <td>1</td>\n",
              "      <td>2</td>\n",
              "      <td>3</td>\n",
              "      <td>1</td>\n",
              "      <td>0</td>\n",
              "      <td>3</td>\n",
              "      <td>3</td>\n",
              "      <td>3</td>\n",
              "      <td>2</td>\n",
              "      <td>2</td>\n",
              "      <td>2</td>\n",
              "      <td>1</td>\n",
              "      <td>1</td>\n",
              "      <td>1</td>\n",
              "      <td>96</td>\n",
              "      <td>94</td>\n",
              "      <td>97</td>\n",
              "    </tr>\n",
              "    <tr>\n",
              "      <th>2</th>\n",
              "      <td>1</td>\n",
              "      <td>1</td>\n",
              "      <td>1</td>\n",
              "      <td>1</td>\n",
              "      <td>1</td>\n",
              "      <td>1</td>\n",
              "      <td>1</td>\n",
              "      <td>4</td>\n",
              "      <td>2</td>\n",
              "      <td>0</td>\n",
              "      <td>1</td>\n",
              "      <td>3</td>\n",
              "      <td>3</td>\n",
              "      <td>1</td>\n",
              "      <td>0</td>\n",
              "      <td>2</td>\n",
              "      <td>1</td>\n",
              "      <td>0</td>\n",
              "      <td>4</td>\n",
              "      <td>3</td>\n",
              "      <td>2</td>\n",
              "      <td>0</td>\n",
              "      <td>1</td>\n",
              "      <td>1</td>\n",
              "      <td>93</td>\n",
              "      <td>91</td>\n",
              "      <td>89</td>\n",
              "    </tr>\n",
              "    <tr>\n",
              "      <th>3</th>\n",
              "      <td>1</td>\n",
              "      <td>1</td>\n",
              "      <td>1</td>\n",
              "      <td>1</td>\n",
              "      <td>1</td>\n",
              "      <td>1</td>\n",
              "      <td>1</td>\n",
              "      <td>2</td>\n",
              "      <td>4</td>\n",
              "      <td>0</td>\n",
              "      <td>1</td>\n",
              "      <td>4</td>\n",
              "      <td>4</td>\n",
              "      <td>1</td>\n",
              "      <td>0</td>\n",
              "      <td>4</td>\n",
              "      <td>3</td>\n",
              "      <td>3</td>\n",
              "      <td>1</td>\n",
              "      <td>4</td>\n",
              "      <td>4</td>\n",
              "      <td>0</td>\n",
              "      <td>0</td>\n",
              "      <td>1</td>\n",
              "      <td>64</td>\n",
              "      <td>64</td>\n",
              "      <td>61</td>\n",
              "    </tr>\n",
              "    <tr>\n",
              "      <th>4</th>\n",
              "      <td>1</td>\n",
              "      <td>1</td>\n",
              "      <td>1</td>\n",
              "      <td>1</td>\n",
              "      <td>1</td>\n",
              "      <td>1</td>\n",
              "      <td>1</td>\n",
              "      <td>2</td>\n",
              "      <td>2</td>\n",
              "      <td>0</td>\n",
              "      <td>1</td>\n",
              "      <td>4</td>\n",
              "      <td>2</td>\n",
              "      <td>0</td>\n",
              "      <td>0</td>\n",
              "      <td>4</td>\n",
              "      <td>4</td>\n",
              "      <td>2</td>\n",
              "      <td>1</td>\n",
              "      <td>4</td>\n",
              "      <td>1</td>\n",
              "      <td>1</td>\n",
              "      <td>0</td>\n",
              "      <td>0</td>\n",
              "      <td>91</td>\n",
              "      <td>93</td>\n",
              "      <td>93</td>\n",
              "    </tr>\n",
              "  </tbody>\n",
              "</table>\n",
              "</div>"
            ],
            "text/plain": [
              "   cinsiyet  Asag  Bsag  Aoz  Boz  ...  ozel_kurs  sosyal_kulturel  ort5  ort6  ort7\n",
              "0         1     1     1    1    1  ...          1                0    85    88    91\n",
              "1         1     1     1    1    1  ...          1                1    96    94    97\n",
              "2         1     1     1    1    1  ...          1                1    93    91    89\n",
              "3         1     1     1    1    1  ...          0                1    64    64    61\n",
              "4         1     1     1    1    1  ...          0                0    91    93    93\n",
              "\n",
              "[5 rows x 27 columns]"
            ]
          },
          "metadata": {
            "tags": []
          },
          "execution_count": 81
        }
      ]
    },
    {
      "cell_type": "code",
      "metadata": {
        "colab": {
          "base_uri": "https://localhost:8080/",
          "height": 359
        },
        "id": "tkOSFYbuRSdE",
        "outputId": "57cebb87-540d-444a-d125-7de9fbfacae3"
      },
      "source": [
        "x_reduced_col_names = df.corr().abs()[\"ort7\"].nlargest(10).index\r\n",
        "df[x_reduced_col_names].corr()"
      ],
      "execution_count": null,
      "outputs": [
        {
          "output_type": "execute_result",
          "data": {
            "text/html": [
              "<div>\n",
              "<style scoped>\n",
              "    .dataframe tbody tr th:only-of-type {\n",
              "        vertical-align: middle;\n",
              "    }\n",
              "\n",
              "    .dataframe tbody tr th {\n",
              "        vertical-align: top;\n",
              "    }\n",
              "\n",
              "    .dataframe thead th {\n",
              "        text-align: right;\n",
              "    }\n",
              "</style>\n",
              "<table border=\"1\" class=\"dataframe\">\n",
              "  <thead>\n",
              "    <tr style=\"text-align: right;\">\n",
              "      <th></th>\n",
              "      <th>ort7</th>\n",
              "      <th>ort6</th>\n",
              "      <th>ort5</th>\n",
              "      <th>ders_calisma</th>\n",
              "      <th>Bogrenim</th>\n",
              "      <th>Aogrenim</th>\n",
              "      <th>ozel_kurs</th>\n",
              "      <th>gelir</th>\n",
              "      <th>televizyon</th>\n",
              "      <th>cinsiyet</th>\n",
              "    </tr>\n",
              "  </thead>\n",
              "  <tbody>\n",
              "    <tr>\n",
              "      <th>ort7</th>\n",
              "      <td>1.000000</td>\n",
              "      <td>0.909238</td>\n",
              "      <td>0.843153</td>\n",
              "      <td>0.374718</td>\n",
              "      <td>0.333300</td>\n",
              "      <td>0.320489</td>\n",
              "      <td>0.235556</td>\n",
              "      <td>0.225700</td>\n",
              "      <td>-0.154438</td>\n",
              "      <td>-0.153145</td>\n",
              "    </tr>\n",
              "    <tr>\n",
              "      <th>ort6</th>\n",
              "      <td>0.909238</td>\n",
              "      <td>1.000000</td>\n",
              "      <td>0.912723</td>\n",
              "      <td>0.364994</td>\n",
              "      <td>0.355567</td>\n",
              "      <td>0.347004</td>\n",
              "      <td>0.241577</td>\n",
              "      <td>0.272485</td>\n",
              "      <td>-0.175874</td>\n",
              "      <td>-0.144251</td>\n",
              "    </tr>\n",
              "    <tr>\n",
              "      <th>ort5</th>\n",
              "      <td>0.843153</td>\n",
              "      <td>0.912723</td>\n",
              "      <td>1.000000</td>\n",
              "      <td>0.327255</td>\n",
              "      <td>0.328829</td>\n",
              "      <td>0.306146</td>\n",
              "      <td>0.211915</td>\n",
              "      <td>0.248373</td>\n",
              "      <td>-0.158355</td>\n",
              "      <td>-0.144784</td>\n",
              "    </tr>\n",
              "    <tr>\n",
              "      <th>ders_calisma</th>\n",
              "      <td>0.374718</td>\n",
              "      <td>0.364994</td>\n",
              "      <td>0.327255</td>\n",
              "      <td>1.000000</td>\n",
              "      <td>0.169126</td>\n",
              "      <td>0.188828</td>\n",
              "      <td>0.248800</td>\n",
              "      <td>0.123214</td>\n",
              "      <td>-0.113449</td>\n",
              "      <td>-0.159408</td>\n",
              "    </tr>\n",
              "    <tr>\n",
              "      <th>Bogrenim</th>\n",
              "      <td>0.333300</td>\n",
              "      <td>0.355567</td>\n",
              "      <td>0.328829</td>\n",
              "      <td>0.169126</td>\n",
              "      <td>1.000000</td>\n",
              "      <td>0.471159</td>\n",
              "      <td>0.199666</td>\n",
              "      <td>0.400929</td>\n",
              "      <td>-0.119668</td>\n",
              "      <td>0.016816</td>\n",
              "    </tr>\n",
              "    <tr>\n",
              "      <th>Aogrenim</th>\n",
              "      <td>0.320489</td>\n",
              "      <td>0.347004</td>\n",
              "      <td>0.306146</td>\n",
              "      <td>0.188828</td>\n",
              "      <td>0.471159</td>\n",
              "      <td>1.000000</td>\n",
              "      <td>0.215348</td>\n",
              "      <td>0.362621</td>\n",
              "      <td>-0.127693</td>\n",
              "      <td>-0.013916</td>\n",
              "    </tr>\n",
              "    <tr>\n",
              "      <th>ozel_kurs</th>\n",
              "      <td>0.235556</td>\n",
              "      <td>0.241577</td>\n",
              "      <td>0.211915</td>\n",
              "      <td>0.248800</td>\n",
              "      <td>0.199666</td>\n",
              "      <td>0.215348</td>\n",
              "      <td>1.000000</td>\n",
              "      <td>0.225053</td>\n",
              "      <td>-0.078590</td>\n",
              "      <td>-0.040946</td>\n",
              "    </tr>\n",
              "    <tr>\n",
              "      <th>gelir</th>\n",
              "      <td>0.225700</td>\n",
              "      <td>0.272485</td>\n",
              "      <td>0.248373</td>\n",
              "      <td>0.123214</td>\n",
              "      <td>0.400929</td>\n",
              "      <td>0.362621</td>\n",
              "      <td>0.225053</td>\n",
              "      <td>1.000000</td>\n",
              "      <td>-0.073796</td>\n",
              "      <td>0.040543</td>\n",
              "    </tr>\n",
              "    <tr>\n",
              "      <th>televizyon</th>\n",
              "      <td>-0.154438</td>\n",
              "      <td>-0.175874</td>\n",
              "      <td>-0.158355</td>\n",
              "      <td>-0.113449</td>\n",
              "      <td>-0.119668</td>\n",
              "      <td>-0.127693</td>\n",
              "      <td>-0.078590</td>\n",
              "      <td>-0.073796</td>\n",
              "      <td>1.000000</td>\n",
              "      <td>0.027154</td>\n",
              "    </tr>\n",
              "    <tr>\n",
              "      <th>cinsiyet</th>\n",
              "      <td>-0.153145</td>\n",
              "      <td>-0.144251</td>\n",
              "      <td>-0.144784</td>\n",
              "      <td>-0.159408</td>\n",
              "      <td>0.016816</td>\n",
              "      <td>-0.013916</td>\n",
              "      <td>-0.040946</td>\n",
              "      <td>0.040543</td>\n",
              "      <td>0.027154</td>\n",
              "      <td>1.000000</td>\n",
              "    </tr>\n",
              "  </tbody>\n",
              "</table>\n",
              "</div>"
            ],
            "text/plain": [
              "                  ort7      ort6      ort5  ...     gelir  televizyon  cinsiyet\n",
              "ort7          1.000000  0.909238  0.843153  ...  0.225700   -0.154438 -0.153145\n",
              "ort6          0.909238  1.000000  0.912723  ...  0.272485   -0.175874 -0.144251\n",
              "ort5          0.843153  0.912723  1.000000  ...  0.248373   -0.158355 -0.144784\n",
              "ders_calisma  0.374718  0.364994  0.327255  ...  0.123214   -0.113449 -0.159408\n",
              "Bogrenim      0.333300  0.355567  0.328829  ...  0.400929   -0.119668  0.016816\n",
              "Aogrenim      0.320489  0.347004  0.306146  ...  0.362621   -0.127693 -0.013916\n",
              "ozel_kurs     0.235556  0.241577  0.211915  ...  0.225053   -0.078590 -0.040946\n",
              "gelir         0.225700  0.272485  0.248373  ...  1.000000   -0.073796  0.040543\n",
              "televizyon   -0.154438 -0.175874 -0.158355  ... -0.073796    1.000000  0.027154\n",
              "cinsiyet     -0.153145 -0.144251 -0.144784  ...  0.040543    0.027154  1.000000\n",
              "\n",
              "[10 rows x 10 columns]"
            ]
          },
          "metadata": {
            "tags": []
          },
          "execution_count": 82
        }
      ]
    },
    {
      "cell_type": "code",
      "metadata": {
        "colab": {
          "base_uri": "https://localhost:8080/"
        },
        "id": "VmHrLcVyRh3Y",
        "outputId": "0da21bb7-d8a8-4dbe-bb19-16a3850ccf48"
      },
      "source": [
        "x = df[x_reduced_col_names]\r\n",
        "x.dtypes"
      ],
      "execution_count": null,
      "outputs": [
        {
          "output_type": "execute_result",
          "data": {
            "text/plain": [
              "ort7            int64\n",
              "ort6            int64\n",
              "ort5            int64\n",
              "ders_calisma    int64\n",
              "Bogrenim        int64\n",
              "Aogrenim        int64\n",
              "ozel_kurs       int64\n",
              "gelir           int64\n",
              "televizyon      int64\n",
              "cinsiyet        int64\n",
              "dtype: object"
            ]
          },
          "metadata": {
            "tags": []
          },
          "execution_count": 83
        }
      ]
    },
    {
      "cell_type": "code",
      "metadata": {
        "colab": {
          "base_uri": "https://localhost:8080/"
        },
        "id": "FdiOaGrYJIc-",
        "outputId": "c86cccaa-d877-4d1c-a3aa-0078171fcfcb"
      },
      "source": [
        "x.shape"
      ],
      "execution_count": null,
      "outputs": [
        {
          "output_type": "execute_result",
          "data": {
            "text/plain": [
              "(1180, 10)"
            ]
          },
          "metadata": {
            "tags": []
          },
          "execution_count": 84
        }
      ]
    },
    {
      "cell_type": "code",
      "metadata": {
        "id": "NP3HBCabJM2X"
      },
      "source": [
        "df_train = x.iloc[:1000, :]\r\n",
        "df_test = x.iloc[1000:, :]"
      ],
      "execution_count": null,
      "outputs": []
    },
    {
      "cell_type": "code",
      "metadata": {
        "id": "TJkXfRQEJVef"
      },
      "source": [
        "x_train = df_train[df_train.columns.difference(['ort7'])].values\r\n",
        "y_train = df_train[['ort7']].values\r\n",
        "x_test = df_test[df_test.columns.difference(['ort7'])].values"
      ],
      "execution_count": null,
      "outputs": []
    },
    {
      "cell_type": "code",
      "metadata": {
        "id": "AC8K_YTtJCZI"
      },
      "source": [
        "sc_x = StandardScaler()\r\n",
        "sc_y = StandardScaler()\r\n",
        "\r\n",
        "x_train = sc_x.fit_transform(x_train)\r\n",
        "x_test = sc_x.transform(x_test)\r\n",
        "y_train = sc_y.fit_transform(y_train)"
      ],
      "execution_count": null,
      "outputs": []
    },
    {
      "cell_type": "code",
      "metadata": {
        "colab": {
          "base_uri": "https://localhost:8080/"
        },
        "id": "dqgPAZ1FMWR_",
        "outputId": "e7ac392a-aace-421c-b67e-23391d715774"
      },
      "source": [
        "x_test"
      ],
      "execution_count": null,
      "outputs": [
        {
          "output_type": "execute_result",
          "data": {
            "text/plain": [
              "array([[ 0.6510374 ,  1.05177618, -0.93228691, ...,  0.72041874,\n",
              "         1.61962601, -1.49210196],\n",
              "       [ 0.6510374 ,  0.28517547, -0.93228691, ..., -0.0762109 ,\n",
              "        -0.61742649, -1.49210196],\n",
              "       [ 0.6510374 , -0.48142525, -0.93228691, ...,  0.0123035 ,\n",
              "        -0.61742649,  0.74661066],\n",
              "       ...,\n",
              "       [-0.91207761, -0.48142525, -0.93228691, ...,  1.42853398,\n",
              "        -0.61742649, -1.49210196],\n",
              "       [ 0.6510374 , -0.48142525,  1.07263117, ...,  0.89744755,\n",
              "        -0.61742649, -1.49210196],\n",
              "       [ 0.6510374 ,  0.28517547,  1.07263117, ...,  0.72041874,\n",
              "        -0.61742649,  0.74661066]])"
            ]
          },
          "metadata": {
            "tags": []
          },
          "execution_count": 88
        }
      ]
    },
    {
      "cell_type": "code",
      "metadata": {
        "id": "eyYignnfMOY3"
      },
      "source": [
        ""
      ],
      "execution_count": null,
      "outputs": []
    },
    {
      "cell_type": "code",
      "metadata": {
        "id": "2KDk6Q5REQsY"
      },
      "source": [
        "#train_x, test_x, train_y, test_y = train_test_split(x, y, random_state=42)"
      ],
      "execution_count": null,
      "outputs": []
    },
    {
      "cell_type": "code",
      "metadata": {
        "colab": {
          "base_uri": "https://localhost:8080/"
        },
        "id": "_za4bqjbKs5S",
        "outputId": "2aef5c83-ffbd-4a16-ee5d-22fa9c0c695f"
      },
      "source": [
        "x_train"
      ],
      "execution_count": null,
      "outputs": [
        {
          "output_type": "execute_result",
          "data": {
            "text/plain": [
              "array([[ 1.4325949 ,  0.28517547,  1.07263117, ...,  0.54338993,\n",
              "         1.61962601, -0.37274565],\n",
              "       [-0.91207761,  0.28517547,  1.07263117, ...,  1.07447636,\n",
              "         1.61962601,  0.74661066],\n",
              "       [ 0.6510374 , -1.24802596,  1.07263117, ...,  0.80893315,\n",
              "         1.61962601, -2.61145827],\n",
              "       ...,\n",
              "       [ 2.21415241,  1.81837689, -0.93228691, ...,  1.42853398,\n",
              "        -0.61742649, -0.37274565],\n",
              "       [ 0.6510374 , -0.48142525, -0.93228691, ...,  0.80893315,\n",
              "         1.61962601, -1.49210196],\n",
              "       [-0.1305201 , -1.24802596, -0.93228691, ..., -0.16472531,\n",
              "        -0.61742649,  0.74661066]])"
            ]
          },
          "metadata": {
            "tags": []
          },
          "execution_count": 90
        }
      ]
    },
    {
      "cell_type": "code",
      "metadata": {
        "colab": {
          "base_uri": "https://localhost:8080/"
        },
        "id": "bmJzGJq4DRCL",
        "outputId": "05cfb52a-4aae-4a7d-f535-e3c4e73ba64b"
      },
      "source": [
        "model = Sequential()\r\n",
        "model = tf.keras.models.Sequential()\r\n",
        "model.add(tf.keras.layers.Dense(4, activation='relu', input_shape=(9, )))\r\n",
        "model.add(tf.keras.layers.Dense(8, activation= 'relu'))\r\n",
        "model.add(tf.keras.layers.Dense(16, activation= 'relu'))\r\n",
        "model.add(tf.keras.layers.Dense(32, activation= 'relu'))\r\n",
        "model.add(tf.keras.layers.Dense(128, activation= 'relu'))\r\n",
        "model.add(tf.keras.layers.Dropout(0.5))\r\n",
        "model.add(tf.keras.layers.Dense(1, activation='linear'))\r\n",
        "model.compile(optimizer=\"adam\", loss='mean_squared_error', metrics=[\"mse\"])\r\n",
        "history = model.fit(x_train,y_train, validation_split=0.03, batch_size=64, epochs=100)"
      ],
      "execution_count": null,
      "outputs": [
        {
          "output_type": "stream",
          "text": [
            "Epoch 1/100\n",
            "16/16 [==============================] - 1s 14ms/step - loss: 0.8576 - mse: 0.8576 - val_loss: 0.9196 - val_mse: 0.9196\n",
            "Epoch 2/100\n",
            "16/16 [==============================] - 0s 4ms/step - loss: 0.5804 - mse: 0.5804 - val_loss: 0.6231 - val_mse: 0.6231\n",
            "Epoch 3/100\n",
            "16/16 [==============================] - 0s 4ms/step - loss: 0.4370 - mse: 0.4370 - val_loss: 0.5192 - val_mse: 0.5192\n",
            "Epoch 4/100\n",
            "16/16 [==============================] - 0s 4ms/step - loss: 0.4117 - mse: 0.4117 - val_loss: 0.5311 - val_mse: 0.5311\n",
            "Epoch 5/100\n",
            "16/16 [==============================] - 0s 4ms/step - loss: 0.4535 - mse: 0.4535 - val_loss: 0.4984 - val_mse: 0.4984\n",
            "Epoch 6/100\n",
            "16/16 [==============================] - 0s 5ms/step - loss: 0.3775 - mse: 0.3775 - val_loss: 0.4838 - val_mse: 0.4838\n",
            "Epoch 7/100\n",
            "16/16 [==============================] - 0s 4ms/step - loss: 0.3144 - mse: 0.3144 - val_loss: 0.4628 - val_mse: 0.4628\n",
            "Epoch 8/100\n",
            "16/16 [==============================] - 0s 4ms/step - loss: 0.3145 - mse: 0.3145 - val_loss: 0.4531 - val_mse: 0.4531\n",
            "Epoch 9/100\n",
            "16/16 [==============================] - 0s 5ms/step - loss: 0.3133 - mse: 0.3133 - val_loss: 0.4314 - val_mse: 0.4314\n",
            "Epoch 10/100\n",
            "16/16 [==============================] - 0s 4ms/step - loss: 0.3279 - mse: 0.3279 - val_loss: 0.4135 - val_mse: 0.4135\n",
            "Epoch 11/100\n",
            "16/16 [==============================] - 0s 4ms/step - loss: 0.3140 - mse: 0.3140 - val_loss: 0.3961 - val_mse: 0.3961\n",
            "Epoch 12/100\n",
            "16/16 [==============================] - 0s 4ms/step - loss: 0.3081 - mse: 0.3081 - val_loss: 0.4313 - val_mse: 0.4313\n",
            "Epoch 13/100\n",
            "16/16 [==============================] - 0s 4ms/step - loss: 0.3187 - mse: 0.3187 - val_loss: 0.3901 - val_mse: 0.3901\n",
            "Epoch 14/100\n",
            "16/16 [==============================] - 0s 4ms/step - loss: 0.2793 - mse: 0.2793 - val_loss: 0.3750 - val_mse: 0.3750\n",
            "Epoch 15/100\n",
            "16/16 [==============================] - 0s 5ms/step - loss: 0.2744 - mse: 0.2744 - val_loss: 0.4050 - val_mse: 0.4050\n",
            "Epoch 16/100\n",
            "16/16 [==============================] - 0s 4ms/step - loss: 0.2644 - mse: 0.2644 - val_loss: 0.3537 - val_mse: 0.3537\n",
            "Epoch 17/100\n",
            "16/16 [==============================] - 0s 4ms/step - loss: 0.2543 - mse: 0.2543 - val_loss: 0.3697 - val_mse: 0.3697\n",
            "Epoch 18/100\n",
            "16/16 [==============================] - 0s 4ms/step - loss: 0.2775 - mse: 0.2775 - val_loss: 0.3511 - val_mse: 0.3511\n",
            "Epoch 19/100\n",
            "16/16 [==============================] - 0s 4ms/step - loss: 0.2415 - mse: 0.2415 - val_loss: 0.3418 - val_mse: 0.3418\n",
            "Epoch 20/100\n",
            "16/16 [==============================] - 0s 4ms/step - loss: 0.2514 - mse: 0.2514 - val_loss: 0.3441 - val_mse: 0.3441\n",
            "Epoch 21/100\n",
            "16/16 [==============================] - 0s 4ms/step - loss: 0.2372 - mse: 0.2372 - val_loss: 0.3413 - val_mse: 0.3413\n",
            "Epoch 22/100\n",
            "16/16 [==============================] - 0s 4ms/step - loss: 0.2696 - mse: 0.2696 - val_loss: 0.3275 - val_mse: 0.3275\n",
            "Epoch 23/100\n",
            "16/16 [==============================] - 0s 4ms/step - loss: 0.2508 - mse: 0.2508 - val_loss: 0.3390 - val_mse: 0.3390\n",
            "Epoch 24/100\n",
            "16/16 [==============================] - 0s 4ms/step - loss: 0.2523 - mse: 0.2523 - val_loss: 0.3279 - val_mse: 0.3279\n",
            "Epoch 25/100\n",
            "16/16 [==============================] - 0s 4ms/step - loss: 0.2260 - mse: 0.2260 - val_loss: 0.3293 - val_mse: 0.3293\n",
            "Epoch 26/100\n",
            "16/16 [==============================] - 0s 4ms/step - loss: 0.2185 - mse: 0.2185 - val_loss: 0.3277 - val_mse: 0.3277\n",
            "Epoch 27/100\n",
            "16/16 [==============================] - 0s 5ms/step - loss: 0.2447 - mse: 0.2447 - val_loss: 0.3245 - val_mse: 0.3245\n",
            "Epoch 28/100\n",
            "16/16 [==============================] - 0s 4ms/step - loss: 0.2432 - mse: 0.2432 - val_loss: 0.2989 - val_mse: 0.2989\n",
            "Epoch 29/100\n",
            "16/16 [==============================] - 0s 5ms/step - loss: 0.2547 - mse: 0.2547 - val_loss: 0.3198 - val_mse: 0.3198\n",
            "Epoch 30/100\n",
            "16/16 [==============================] - 0s 4ms/step - loss: 0.2418 - mse: 0.2418 - val_loss: 0.3093 - val_mse: 0.3093\n",
            "Epoch 31/100\n",
            "16/16 [==============================] - 0s 4ms/step - loss: 0.2430 - mse: 0.2430 - val_loss: 0.2905 - val_mse: 0.2905\n",
            "Epoch 32/100\n",
            "16/16 [==============================] - 0s 4ms/step - loss: 0.2573 - mse: 0.2573 - val_loss: 0.2934 - val_mse: 0.2934\n",
            "Epoch 33/100\n",
            "16/16 [==============================] - 0s 4ms/step - loss: 0.2102 - mse: 0.2102 - val_loss: 0.2816 - val_mse: 0.2816\n",
            "Epoch 34/100\n",
            "16/16 [==============================] - 0s 5ms/step - loss: 0.2137 - mse: 0.2137 - val_loss: 0.2900 - val_mse: 0.2900\n",
            "Epoch 35/100\n",
            "16/16 [==============================] - 0s 4ms/step - loss: 0.2264 - mse: 0.2264 - val_loss: 0.3065 - val_mse: 0.3065\n",
            "Epoch 36/100\n",
            "16/16 [==============================] - 0s 5ms/step - loss: 0.2435 - mse: 0.2435 - val_loss: 0.2642 - val_mse: 0.2642\n",
            "Epoch 37/100\n",
            "16/16 [==============================] - 0s 5ms/step - loss: 0.2603 - mse: 0.2603 - val_loss: 0.2730 - val_mse: 0.2730\n",
            "Epoch 38/100\n",
            "16/16 [==============================] - 0s 18ms/step - loss: 0.2274 - mse: 0.2274 - val_loss: 0.2780 - val_mse: 0.2780\n",
            "Epoch 39/100\n",
            "16/16 [==============================] - 0s 5ms/step - loss: 0.2045 - mse: 0.2045 - val_loss: 0.2535 - val_mse: 0.2535\n",
            "Epoch 40/100\n",
            "16/16 [==============================] - 0s 6ms/step - loss: 0.2260 - mse: 0.2260 - val_loss: 0.2788 - val_mse: 0.2788\n",
            "Epoch 41/100\n",
            "16/16 [==============================] - 0s 5ms/step - loss: 0.2522 - mse: 0.2522 - val_loss: 0.2649 - val_mse: 0.2649\n",
            "Epoch 42/100\n",
            "16/16 [==============================] - 0s 5ms/step - loss: 0.2475 - mse: 0.2475 - val_loss: 0.2764 - val_mse: 0.2764\n",
            "Epoch 43/100\n",
            "16/16 [==============================] - 0s 5ms/step - loss: 0.2491 - mse: 0.2491 - val_loss: 0.2359 - val_mse: 0.2359\n",
            "Epoch 44/100\n",
            "16/16 [==============================] - 0s 5ms/step - loss: 0.2206 - mse: 0.2206 - val_loss: 0.2499 - val_mse: 0.2499\n",
            "Epoch 45/100\n",
            "16/16 [==============================] - 0s 5ms/step - loss: 0.2674 - mse: 0.2674 - val_loss: 0.2509 - val_mse: 0.2509\n",
            "Epoch 46/100\n",
            "16/16 [==============================] - 0s 4ms/step - loss: 0.2189 - mse: 0.2189 - val_loss: 0.2395 - val_mse: 0.2395\n",
            "Epoch 47/100\n",
            "16/16 [==============================] - 0s 5ms/step - loss: 0.2103 - mse: 0.2103 - val_loss: 0.2523 - val_mse: 0.2523\n",
            "Epoch 48/100\n",
            "16/16 [==============================] - 0s 4ms/step - loss: 0.2487 - mse: 0.2487 - val_loss: 0.2501 - val_mse: 0.2501\n",
            "Epoch 49/100\n",
            "16/16 [==============================] - 0s 4ms/step - loss: 0.2417 - mse: 0.2417 - val_loss: 0.2424 - val_mse: 0.2424\n",
            "Epoch 50/100\n",
            "16/16 [==============================] - 0s 4ms/step - loss: 0.1961 - mse: 0.1961 - val_loss: 0.2270 - val_mse: 0.2270\n",
            "Epoch 51/100\n",
            "16/16 [==============================] - 0s 4ms/step - loss: 0.1721 - mse: 0.1721 - val_loss: 0.2181 - val_mse: 0.2181\n",
            "Epoch 52/100\n",
            "16/16 [==============================] - 0s 4ms/step - loss: 0.2123 - mse: 0.2123 - val_loss: 0.2308 - val_mse: 0.2308\n",
            "Epoch 53/100\n",
            "16/16 [==============================] - 0s 4ms/step - loss: 0.2100 - mse: 0.2100 - val_loss: 0.2226 - val_mse: 0.2226\n",
            "Epoch 54/100\n",
            "16/16 [==============================] - 0s 4ms/step - loss: 0.1956 - mse: 0.1956 - val_loss: 0.2129 - val_mse: 0.2129\n",
            "Epoch 55/100\n",
            "16/16 [==============================] - 0s 4ms/step - loss: 0.2131 - mse: 0.2131 - val_loss: 0.2107 - val_mse: 0.2107\n",
            "Epoch 56/100\n",
            "16/16 [==============================] - 0s 4ms/step - loss: 0.1925 - mse: 0.1925 - val_loss: 0.2127 - val_mse: 0.2127\n",
            "Epoch 57/100\n",
            "16/16 [==============================] - 0s 4ms/step - loss: 0.2347 - mse: 0.2347 - val_loss: 0.2217 - val_mse: 0.2217\n",
            "Epoch 58/100\n",
            "16/16 [==============================] - 0s 4ms/step - loss: 0.2244 - mse: 0.2244 - val_loss: 0.2051 - val_mse: 0.2051\n",
            "Epoch 59/100\n",
            "16/16 [==============================] - 0s 4ms/step - loss: 0.2265 - mse: 0.2265 - val_loss: 0.2044 - val_mse: 0.2044\n",
            "Epoch 60/100\n",
            "16/16 [==============================] - 0s 4ms/step - loss: 0.2029 - mse: 0.2029 - val_loss: 0.2093 - val_mse: 0.2093\n",
            "Epoch 61/100\n",
            "16/16 [==============================] - 0s 4ms/step - loss: 0.2064 - mse: 0.2064 - val_loss: 0.2037 - val_mse: 0.2037\n",
            "Epoch 62/100\n",
            "16/16 [==============================] - 0s 5ms/step - loss: 0.1950 - mse: 0.1950 - val_loss: 0.1932 - val_mse: 0.1932\n",
            "Epoch 63/100\n",
            "16/16 [==============================] - 0s 6ms/step - loss: 0.2062 - mse: 0.2062 - val_loss: 0.2079 - val_mse: 0.2079\n",
            "Epoch 64/100\n",
            "16/16 [==============================] - 0s 4ms/step - loss: 0.1994 - mse: 0.1994 - val_loss: 0.1801 - val_mse: 0.1801\n",
            "Epoch 65/100\n",
            "16/16 [==============================] - 0s 4ms/step - loss: 0.1979 - mse: 0.1979 - val_loss: 0.1854 - val_mse: 0.1854\n",
            "Epoch 66/100\n",
            "16/16 [==============================] - 0s 5ms/step - loss: 0.2159 - mse: 0.2159 - val_loss: 0.1898 - val_mse: 0.1898\n",
            "Epoch 67/100\n",
            "16/16 [==============================] - 0s 4ms/step - loss: 0.2251 - mse: 0.2251 - val_loss: 0.2024 - val_mse: 0.2024\n",
            "Epoch 68/100\n",
            "16/16 [==============================] - 0s 5ms/step - loss: 0.1986 - mse: 0.1986 - val_loss: 0.1797 - val_mse: 0.1797\n",
            "Epoch 69/100\n",
            "16/16 [==============================] - 0s 4ms/step - loss: 0.2043 - mse: 0.2043 - val_loss: 0.1992 - val_mse: 0.1992\n",
            "Epoch 70/100\n",
            "16/16 [==============================] - 0s 4ms/step - loss: 0.2372 - mse: 0.2372 - val_loss: 0.1846 - val_mse: 0.1846\n",
            "Epoch 71/100\n",
            "16/16 [==============================] - 0s 4ms/step - loss: 0.1969 - mse: 0.1969 - val_loss: 0.1801 - val_mse: 0.1801\n",
            "Epoch 72/100\n",
            "16/16 [==============================] - 0s 4ms/step - loss: 0.1734 - mse: 0.1734 - val_loss: 0.1741 - val_mse: 0.1741\n",
            "Epoch 73/100\n",
            "16/16 [==============================] - 0s 4ms/step - loss: 0.1862 - mse: 0.1862 - val_loss: 0.1742 - val_mse: 0.1742\n",
            "Epoch 74/100\n",
            "16/16 [==============================] - 0s 5ms/step - loss: 0.2195 - mse: 0.2195 - val_loss: 0.1942 - val_mse: 0.1942\n",
            "Epoch 75/100\n",
            "16/16 [==============================] - 0s 4ms/step - loss: 0.1824 - mse: 0.1824 - val_loss: 0.1569 - val_mse: 0.1569\n",
            "Epoch 76/100\n",
            "16/16 [==============================] - 0s 5ms/step - loss: 0.1902 - mse: 0.1902 - val_loss: 0.1734 - val_mse: 0.1734\n",
            "Epoch 77/100\n",
            "16/16 [==============================] - 0s 4ms/step - loss: 0.1747 - mse: 0.1747 - val_loss: 0.1675 - val_mse: 0.1675\n",
            "Epoch 78/100\n",
            "16/16 [==============================] - 0s 5ms/step - loss: 0.1836 - mse: 0.1836 - val_loss: 0.1732 - val_mse: 0.1732\n",
            "Epoch 79/100\n",
            "16/16 [==============================] - 0s 5ms/step - loss: 0.1938 - mse: 0.1938 - val_loss: 0.1544 - val_mse: 0.1544\n",
            "Epoch 80/100\n",
            "16/16 [==============================] - 0s 6ms/step - loss: 0.2128 - mse: 0.2128 - val_loss: 0.1846 - val_mse: 0.1846\n",
            "Epoch 81/100\n",
            "16/16 [==============================] - 0s 5ms/step - loss: 0.1765 - mse: 0.1765 - val_loss: 0.1521 - val_mse: 0.1521\n",
            "Epoch 82/100\n",
            "16/16 [==============================] - 0s 14ms/step - loss: 0.1840 - mse: 0.1840 - val_loss: 0.1747 - val_mse: 0.1747\n",
            "Epoch 83/100\n",
            "16/16 [==============================] - 0s 5ms/step - loss: 0.2050 - mse: 0.2050 - val_loss: 0.1547 - val_mse: 0.1547\n",
            "Epoch 84/100\n",
            "16/16 [==============================] - 0s 5ms/step - loss: 0.1754 - mse: 0.1754 - val_loss: 0.1566 - val_mse: 0.1566\n",
            "Epoch 85/100\n",
            "16/16 [==============================] - 0s 5ms/step - loss: 0.1927 - mse: 0.1927 - val_loss: 0.1743 - val_mse: 0.1743\n",
            "Epoch 86/100\n",
            "16/16 [==============================] - 0s 5ms/step - loss: 0.1916 - mse: 0.1916 - val_loss: 0.1455 - val_mse: 0.1455\n",
            "Epoch 87/100\n",
            "16/16 [==============================] - 0s 5ms/step - loss: 0.1692 - mse: 0.1692 - val_loss: 0.1607 - val_mse: 0.1607\n",
            "Epoch 88/100\n",
            "16/16 [==============================] - 0s 5ms/step - loss: 0.2397 - mse: 0.2397 - val_loss: 0.1616 - val_mse: 0.1616\n",
            "Epoch 89/100\n",
            "16/16 [==============================] - 0s 6ms/step - loss: 0.1644 - mse: 0.1644 - val_loss: 0.1511 - val_mse: 0.1511\n",
            "Epoch 90/100\n",
            "16/16 [==============================] - 0s 6ms/step - loss: 0.1636 - mse: 0.1636 - val_loss: 0.1673 - val_mse: 0.1673\n",
            "Epoch 91/100\n",
            "16/16 [==============================] - 0s 5ms/step - loss: 0.1727 - mse: 0.1727 - val_loss: 0.1448 - val_mse: 0.1448\n",
            "Epoch 92/100\n",
            "16/16 [==============================] - 0s 5ms/step - loss: 0.1862 - mse: 0.1862 - val_loss: 0.1483 - val_mse: 0.1483\n",
            "Epoch 93/100\n",
            "16/16 [==============================] - 0s 5ms/step - loss: 0.1837 - mse: 0.1837 - val_loss: 0.1524 - val_mse: 0.1524\n",
            "Epoch 94/100\n",
            "16/16 [==============================] - 0s 6ms/step - loss: 0.1947 - mse: 0.1947 - val_loss: 0.1636 - val_mse: 0.1636\n",
            "Epoch 95/100\n",
            "16/16 [==============================] - 0s 5ms/step - loss: 0.1741 - mse: 0.1741 - val_loss: 0.1431 - val_mse: 0.1431\n",
            "Epoch 96/100\n",
            "16/16 [==============================] - 0s 5ms/step - loss: 0.1656 - mse: 0.1656 - val_loss: 0.1500 - val_mse: 0.1500\n",
            "Epoch 97/100\n",
            "16/16 [==============================] - 0s 4ms/step - loss: 0.1815 - mse: 0.1815 - val_loss: 0.1508 - val_mse: 0.1508\n",
            "Epoch 98/100\n",
            "16/16 [==============================] - 0s 5ms/step - loss: 0.1734 - mse: 0.1734 - val_loss: 0.1421 - val_mse: 0.1421\n",
            "Epoch 99/100\n",
            "16/16 [==============================] - 0s 5ms/step - loss: 0.1804 - mse: 0.1804 - val_loss: 0.1610 - val_mse: 0.1610\n",
            "Epoch 100/100\n",
            "16/16 [==============================] - 0s 4ms/step - loss: 0.1868 - mse: 0.1868 - val_loss: 0.1349 - val_mse: 0.1349\n"
          ],
          "name": "stdout"
        }
      ]
    },
    {
      "cell_type": "code",
      "metadata": {
        "colab": {
          "base_uri": "https://localhost:8080/",
          "height": 216
        },
        "id": "EOGerVgXtAhE",
        "outputId": "f02a2f33-6bfa-4eba-fcc3-54c406b1dc6e"
      },
      "source": [
        "def plot_acc_loss(x):  \r\n",
        "  \r\n",
        "  loss = x.history[\"loss\"]\r\n",
        "  val_loss = x.history[\"val_loss\"]\r\n",
        " \r\n",
        "  \r\n",
        "  print(\"loss =\", loss[-1])\r\n",
        "  print(\"val_loss =\", val_loss[-1])\r\n",
        "  epochs = range(1, len(loss) + 1)\r\n",
        "  fig = plt.figure()\r\n",
        "  \r\n",
        "\r\n",
        "  plt.subplot(2,1,2)\r\n",
        "  plt.plot(epochs, loss, \"bo\", label=\"Training loss\")\r\n",
        "  plt.plot(epochs, val_loss, \"b\", label=\"Validation loss\")\r\n",
        "  plt.title(\"Training and Validation Loss\")\r\n",
        "  plt.xlabel(\"Epochs\")\r\n",
        "  plt.ylabel(\"Loss\")\r\n",
        "  plt.legend()\r\n",
        "  fig.tight_layout()\r\n",
        "  plt.show()\r\n",
        "  \r\n",
        "  \r\n",
        "\r\n",
        "plot_acc_loss(history)"
      ],
      "execution_count": null,
      "outputs": [
        {
          "output_type": "stream",
          "text": [
            "loss = 0.18671321868896484\n",
            "val_loss = 0.13486747443675995\n"
          ],
          "name": "stdout"
        },
        {
          "output_type": "display_data",
          "data": {
            "image/png": "[encoded data removed]",
            "text/plain": [
              "<Figure size 432x288 with 1 Axes>"
            ]
          },
          "metadata": {
            "tags": [],
            "needs_background": "light"
          }
        }
      ]
    },
    {
      "cell_type": "code",
      "metadata": {
        "id": "Q_8LK78_Lhn7"
      },
      "source": [
        "y_pred = model.predict(x_test)"
      ],
      "execution_count": null,
      "outputs": []
    },
    {
      "cell_type": "code",
      "metadata": {
        "id": "9uUX9J2uv4Mo"
      },
      "source": [
        ""
      ],
      "execution_count": null,
      "outputs": []
    },
    {
      "cell_type": "code",
      "metadata": {
        "id": "2NMxm3HPLl4n"
      },
      "source": [
        "y_pred = sc_y.inverse_transform(y_pred)"
      ],
      "execution_count": null,
      "outputs": []
    },
    {
      "cell_type": "code",
      "metadata": {
        "id": "xD54-3qINdiz"
      },
      "source": [
        "y_pred = pd.DataFrame(y_pred)\r\n",
        "y_pred = y_pred.rename(columns={0: \"tahminler\"})"
      ],
      "execution_count": null,
      "outputs": []
    },
    {
      "cell_type": "code",
      "metadata": {
        "id": "tHuUX_utv6Zp"
      },
      "source": [
        "y_pred = y_pred.astype(\"int64\")"
      ],
      "execution_count": null,
      "outputs": []
    },
    {
      "cell_type": "code",
      "metadata": {
        "id": "S4Ip5rVuOl4B"
      },
      "source": [
        "labels = df_test.ort7"
      ],
      "execution_count": null,
      "outputs": []
    },
    {
      "cell_type": "code",
      "metadata": {
        "colab": {
          "base_uri": "https://localhost:8080/",
          "height": 359
        },
        "id": "I9355BoeO7k3",
        "outputId": "b3960452-b4c0-4d30-b527-6615ce81a5c3"
      },
      "source": [
        "df_preds = pd.DataFrame(y_pred[:10])\r\n",
        "df_preds"
      ],
      "execution_count": null,
      "outputs": [
        {
          "output_type": "execute_result",
          "data": {
            "text/html": [
              "<div>\n",
              "<style scoped>\n",
              "    .dataframe tbody tr th:only-of-type {\n",
              "        vertical-align: middle;\n",
              "    }\n",
              "\n",
              "    .dataframe tbody tr th {\n",
              "        vertical-align: top;\n",
              "    }\n",
              "\n",
              "    .dataframe thead th {\n",
              "        text-align: right;\n",
              "    }\n",
              "</style>\n",
              "<table border=\"1\" class=\"dataframe\">\n",
              "  <thead>\n",
              "    <tr style=\"text-align: right;\">\n",
              "      <th></th>\n",
              "      <th>tahminler</th>\n",
              "    </tr>\n",
              "  </thead>\n",
              "  <tbody>\n",
              "    <tr>\n",
              "      <th>0</th>\n",
              "      <td>92</td>\n",
              "    </tr>\n",
              "    <tr>\n",
              "      <th>1</th>\n",
              "      <td>82</td>\n",
              "    </tr>\n",
              "    <tr>\n",
              "      <th>2</th>\n",
              "      <td>82</td>\n",
              "    </tr>\n",
              "    <tr>\n",
              "      <th>3</th>\n",
              "      <td>75</td>\n",
              "    </tr>\n",
              "    <tr>\n",
              "      <th>4</th>\n",
              "      <td>90</td>\n",
              "    </tr>\n",
              "    <tr>\n",
              "      <th>5</th>\n",
              "      <td>86</td>\n",
              "    </tr>\n",
              "    <tr>\n",
              "      <th>6</th>\n",
              "      <td>92</td>\n",
              "    </tr>\n",
              "    <tr>\n",
              "      <th>7</th>\n",
              "      <td>70</td>\n",
              "    </tr>\n",
              "    <tr>\n",
              "      <th>8</th>\n",
              "      <td>80</td>\n",
              "    </tr>\n",
              "    <tr>\n",
              "      <th>9</th>\n",
              "      <td>81</td>\n",
              "    </tr>\n",
              "  </tbody>\n",
              "</table>\n",
              "</div>"
            ],
            "text/plain": [
              "   tahminler\n",
              "0         92\n",
              "1         82\n",
              "2         82\n",
              "3         75\n",
              "4         90\n",
              "5         86\n",
              "6         92\n",
              "7         70\n",
              "8         80\n",
              "9         81"
            ]
          },
          "metadata": {
            "tags": []
          },
          "execution_count": 103
        }
      ]
    },
    {
      "cell_type": "code",
      "metadata": {
        "colab": {
          "base_uri": "https://localhost:8080/",
          "height": 359
        },
        "id": "oiatlHV3NiEy",
        "outputId": "ee6c736c-6008-4fa9-af18-ef3343b710a0"
      },
      "source": [
        "\r\n",
        "df_labels = pd.DataFrame(labels[:10])\r\n",
        "df_labels = df_labels.rename(columns={0: \"gerçek notlar\"})\r\n",
        "df_labels = df_labels.reset_index()\r\n",
        "df_labels = df_labels.iloc[:, -1:]\r\n",
        "df_labels"
      ],
      "execution_count": null,
      "outputs": [
        {
          "output_type": "execute_result",
          "data": {
            "text/html": [
              "<div>\n",
              "<style scoped>\n",
              "    .dataframe tbody tr th:only-of-type {\n",
              "        vertical-align: middle;\n",
              "    }\n",
              "\n",
              "    .dataframe tbody tr th {\n",
              "        vertical-align: top;\n",
              "    }\n",
              "\n",
              "    .dataframe thead th {\n",
              "        text-align: right;\n",
              "    }\n",
              "</style>\n",
              "<table border=\"1\" class=\"dataframe\">\n",
              "  <thead>\n",
              "    <tr style=\"text-align: right;\">\n",
              "      <th></th>\n",
              "      <th>ort7</th>\n",
              "    </tr>\n",
              "  </thead>\n",
              "  <tbody>\n",
              "    <tr>\n",
              "      <th>0</th>\n",
              "      <td>95</td>\n",
              "    </tr>\n",
              "    <tr>\n",
              "      <th>1</th>\n",
              "      <td>86</td>\n",
              "    </tr>\n",
              "    <tr>\n",
              "      <th>2</th>\n",
              "      <td>87</td>\n",
              "    </tr>\n",
              "    <tr>\n",
              "      <th>3</th>\n",
              "      <td>80</td>\n",
              "    </tr>\n",
              "    <tr>\n",
              "      <th>4</th>\n",
              "      <td>86</td>\n",
              "    </tr>\n",
              "    <tr>\n",
              "      <th>5</th>\n",
              "      <td>86</td>\n",
              "    </tr>\n",
              "    <tr>\n",
              "      <th>6</th>\n",
              "      <td>96</td>\n",
              "    </tr>\n",
              "    <tr>\n",
              "      <th>7</th>\n",
              "      <td>66</td>\n",
              "    </tr>\n",
              "    <tr>\n",
              "      <th>8</th>\n",
              "      <td>88</td>\n",
              "    </tr>\n",
              "    <tr>\n",
              "      <th>9</th>\n",
              "      <td>89</td>\n",
              "    </tr>\n",
              "  </tbody>\n",
              "</table>\n",
              "</div>"
            ],
            "text/plain": [
              "   ort7\n",
              "0    95\n",
              "1    86\n",
              "2    87\n",
              "3    80\n",
              "4    86\n",
              "5    86\n",
              "6    96\n",
              "7    66\n",
              "8    88\n",
              "9    89"
            ]
          },
          "metadata": {
            "tags": []
          },
          "execution_count": 99
        }
      ]
    },
    {
      "cell_type": "code",
      "metadata": {
        "id": "3eaHhJ3HNma-"
      },
      "source": [
        "df_tahminler = pd.concat([df_preds, df_labels.reindex(df_preds.index)], axis=1)"
      ],
      "execution_count": null,
      "outputs": []
    },
    {
      "cell_type": "code",
      "metadata": {
        "colab": {
          "base_uri": "https://localhost:8080/",
          "height": 359
        },
        "id": "wo57sZL1R26i",
        "outputId": "0b4c8197-5e75-4d0c-f93b-d160fa500063"
      },
      "source": [
        "df_tahminler"
      ],
      "execution_count": null,
      "outputs": [
        {
          "output_type": "execute_result",
          "data": {
            "text/html": [
              "<div>\n",
              "<style scoped>\n",
              "    .dataframe tbody tr th:only-of-type {\n",
              "        vertical-align: middle;\n",
              "    }\n",
              "\n",
              "    .dataframe tbody tr th {\n",
              "        vertical-align: top;\n",
              "    }\n",
              "\n",
              "    .dataframe thead th {\n",
              "        text-align: right;\n",
              "    }\n",
              "</style>\n",
              "<table border=\"1\" class=\"dataframe\">\n",
              "  <thead>\n",
              "    <tr style=\"text-align: right;\">\n",
              "      <th></th>\n",
              "      <th>tahminler</th>\n",
              "      <th>ort7</th>\n",
              "    </tr>\n",
              "  </thead>\n",
              "  <tbody>\n",
              "    <tr>\n",
              "      <th>0</th>\n",
              "      <td>92</td>\n",
              "      <td>95</td>\n",
              "    </tr>\n",
              "    <tr>\n",
              "      <th>1</th>\n",
              "      <td>82</td>\n",
              "      <td>86</td>\n",
              "    </tr>\n",
              "    <tr>\n",
              "      <th>2</th>\n",
              "      <td>82</td>\n",
              "      <td>87</td>\n",
              "    </tr>\n",
              "    <tr>\n",
              "      <th>3</th>\n",
              "      <td>75</td>\n",
              "      <td>80</td>\n",
              "    </tr>\n",
              "    <tr>\n",
              "      <th>4</th>\n",
              "      <td>90</td>\n",
              "      <td>86</td>\n",
              "    </tr>\n",
              "    <tr>\n",
              "      <th>5</th>\n",
              "      <td>86</td>\n",
              "      <td>86</td>\n",
              "    </tr>\n",
              "    <tr>\n",
              "      <th>6</th>\n",
              "      <td>92</td>\n",
              "      <td>96</td>\n",
              "    </tr>\n",
              "    <tr>\n",
              "      <th>7</th>\n",
              "      <td>70</td>\n",
              "      <td>66</td>\n",
              "    </tr>\n",
              "    <tr>\n",
              "      <th>8</th>\n",
              "      <td>80</td>\n",
              "      <td>88</td>\n",
              "    </tr>\n",
              "    <tr>\n",
              "      <th>9</th>\n",
              "      <td>81</td>\n",
              "      <td>89</td>\n",
              "    </tr>\n",
              "  </tbody>\n",
              "</table>\n",
              "</div>"
            ],
            "text/plain": [
              "   tahminler  ort7\n",
              "0         92    95\n",
              "1         82    86\n",
              "2         82    87\n",
              "3         75    80\n",
              "4         90    86\n",
              "5         86    86\n",
              "6         92    96\n",
              "7         70    66\n",
              "8         80    88\n",
              "9         81    89"
            ]
          },
          "metadata": {
            "tags": []
          },
          "execution_count": 105
        }
      ]
    }
  ]
}